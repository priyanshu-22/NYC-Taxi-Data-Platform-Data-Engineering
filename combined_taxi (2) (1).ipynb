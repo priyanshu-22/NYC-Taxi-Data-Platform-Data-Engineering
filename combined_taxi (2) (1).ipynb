{
  "cells": [
    {
      "cell_type": "code",
      "execution_count": null,
      "metadata": {
        "application/vnd.databricks.v1+cell": {
          "cellMetadata": {
            "byteLimit": 2048000,
            "rowLimit": 10000
          },
          "inputWidgets": {},
          "nuid": "f39a6910-c27e-43c7-90f2-000cc9c23b1b",
          "showTitle": false,
          "tableResultSettingsMap": {},
          "title": ""
        },
        "id": "uwTJo8Slr-qq"
      },
      "outputs": [],
      "source": [
        "yellow_taxi_df = spark.sql(\"SELECT * FROM yellow_tripdata_latest\")\n",
        "green_taxi_df = spark.sql(\"SELECT * FROM green_tripdata_2024_10\")"
      ]
    },
    {
      "cell_type": "code",
      "execution_count": null,
      "metadata": {
        "application/vnd.databricks.v1+cell": {
          "cellMetadata": {
            "byteLimit": 2048000,
            "rowLimit": 10000
          },
          "inputWidgets": {},
          "nuid": "ace17e51-9841-45b0-9dcf-3e3ef334bc9e",
          "showTitle": false,
          "tableResultSettingsMap": {},
          "title": ""
        },
        "id": "KAwe_vIEr-q0",
        "outputId": "cfefafff-aa9a-45b7-cdd4-04861717a512"
      },
      "outputs": [
        {
          "output_type": "display_data",
          "data": {
            "text/html": [
              "<style scoped>\n",
              "  .table-result-container {\n",
              "    max-height: 300px;\n",
              "    overflow: auto;\n",
              "  }\n",
              "  table, th, td {\n",
              "    border: 1px solid black;\n",
              "    border-collapse: collapse;\n",
              "  }\n",
              "  th, td {\n",
              "    padding: 5px;\n",
              "  }\n",
              "  th {\n",
              "    text-align: left;\n",
              "  }\n",
              "</style><div class='table-result-container'><table class='table-result'><thead style='background-color: white'><tr><th>pickup_datetime</th><th>dropoff_datetime</th><th>PULocationID</th><th>trip_distance</th><th>total_amount</th></tr></thead><tbody><tr><td>2024-12-01T00:12:27.000Z</td><td>2024-12-01T00:31:12.000Z</td><td>138</td><td>9.76</td><td>51.97</td></tr><tr><td>2024-11-30T23:56:04.000Z</td><td>2024-12-01T00:28:15.000Z</td><td>158</td><td>7.62</td><td>50.76</td></tr><tr><td>2024-12-01T00:50:35.000Z</td><td>2024-12-01T01:24:46.000Z</td><td>132</td><td>20.07</td><td>82.69</td></tr><tr><td>2024-12-01T00:18:16.000Z</td><td>2024-12-01T00:33:16.000Z</td><td>142</td><td>2.34</td><td>24.72</td></tr><tr><td>2024-12-01T00:56:13.000Z</td><td>2024-12-01T01:18:25.000Z</td><td>107</td><td>5.05</td><td>36.8</td></tr></tbody></table></div>"
            ]
          },
          "metadata": {
            "application/vnd.databricks.v1+output": {
              "addedWidgets": {},
              "aggData": [],
              "aggError": "",
              "aggOverflow": false,
              "aggSchema": [],
              "aggSeriesLimitReached": false,
              "aggType": "",
              "arguments": {},
              "columnCustomDisplayInfos": {},
              "data": [
                [
                  "2024-12-01T00:12:27.000Z",
                  "2024-12-01T00:31:12.000Z",
                  138,
                  9.76,
                  51.97
                ],
                [
                  "2024-11-30T23:56:04.000Z",
                  "2024-12-01T00:28:15.000Z",
                  158,
                  7.62,
                  50.76
                ],
                [
                  "2024-12-01T00:50:35.000Z",
                  "2024-12-01T01:24:46.000Z",
                  132,
                  20.07,
                  82.69
                ],
                [
                  "2024-12-01T00:18:16.000Z",
                  "2024-12-01T00:33:16.000Z",
                  142,
                  2.34,
                  24.72
                ],
                [
                  "2024-12-01T00:56:13.000Z",
                  "2024-12-01T01:18:25.000Z",
                  107,
                  5.05,
                  36.8
                ]
              ],
              "datasetInfos": [],
              "dbfsResultPath": null,
              "isJsonSchema": true,
              "metadata": {},
              "overflow": false,
              "plotOptions": {
                "customPlotOptions": {},
                "displayType": "table",
                "pivotAggregation": null,
                "pivotColumns": null,
                "xColumns": null,
                "yColumns": null
              },
              "removedWidgets": [],
              "schema": [
                {
                  "metadata": "{}",
                  "name": "pickup_datetime",
                  "type": "\"timestamp\""
                },
                {
                  "metadata": "{}",
                  "name": "dropoff_datetime",
                  "type": "\"timestamp\""
                },
                {
                  "metadata": "{}",
                  "name": "PULocationID",
                  "type": "\"integer\""
                },
                {
                  "metadata": "{}",
                  "name": "trip_distance",
                  "type": "\"double\""
                },
                {
                  "metadata": "{}",
                  "name": "total_amount",
                  "type": "\"double\""
                }
              ],
              "type": "table"
            }
          }
        }
      ],
      "source": [
        "from pyspark.sql.functions import col\n",
        "\n",
        "\n",
        "yellow_taxi_df = yellow_taxi_df.withColumnRenamed(\"tpep_pickup_datetime\", \"pickup_datetime\") \\\n",
        "                               .withColumnRenamed(\"tpep_dropoff_datetime\", \"dropoff_datetime\")\n",
        "\n",
        "green_taxi_df = green_taxi_df.withColumnRenamed(\"lpep_pickup_datetime\", \"pickup_datetime\") \\\n",
        "                             .withColumnRenamed(\"lpep_dropoff_datetime\", \"dropoff_datetime\")\n",
        "\n",
        "\n",
        "yellow_taxi_df = yellow_taxi_df.select(\"pickup_datetime\", \"dropoff_datetime\", \"PULocationID\", \"trip_distance\", \"total_amount\")\n",
        "green_taxi_df = green_taxi_df.select(\"pickup_datetime\", \"dropoff_datetime\", \"PULocationID\", \"trip_distance\", \"total_amount\")\n",
        "\n",
        "\n",
        "combined_taxi_df = yellow_taxi_df.unionByName(green_taxi_df)\n",
        "\n",
        "# Caching the combined dataset for better performance\n",
        "#combined_taxi_df = combined_taxi_df.cache()\n",
        "\n",
        "display(combined_taxi_df.limit(5))\n"
      ]
    },
    {
      "cell_type": "code",
      "execution_count": null,
      "metadata": {
        "application/vnd.databricks.v1+cell": {
          "cellMetadata": {
            "byteLimit": 2048000,
            "rowLimit": 10000
          },
          "inputWidgets": {},
          "nuid": "bfe33ae7-ddc1-4ce4-bbfd-36b5b31021b0",
          "showTitle": false,
          "tableResultSettingsMap": {},
          "title": ""
        },
        "id": "HFXtxq9Br-q5",
        "outputId": "55d6c3ef-1f6b-4e6e-efb6-4f3fbf8cef58"
      },
      "outputs": [
        {
          "output_type": "display_data",
          "data": {
            "text/html": [
              "<style scoped>\n",
              "  .table-result-container {\n",
              "    max-height: 300px;\n",
              "    overflow: auto;\n",
              "  }\n",
              "  table, th, td {\n",
              "    border: 1px solid black;\n",
              "    border-collapse: collapse;\n",
              "  }\n",
              "  th, td {\n",
              "    padding: 5px;\n",
              "  }\n",
              "  th {\n",
              "    text-align: left;\n",
              "  }\n",
              "</style><div class='table-result-container'><table class='table-result'><thead style='background-color: white'><tr><th>trip_distance</th><th>trip_duration</th><th>trip_speed_mph</th></tr></thead><tbody><tr><td>3.0</td><td>17.7</td><td>10.16949152542373</td></tr><tr><td>2.2</td><td>13.083333333333334</td><td>10.089171974522294</td></tr><tr><td>2.7</td><td>9.1</td><td>17.802197802197803</td></tr><tr><td>3.1</td><td>10.85</td><td>17.142857142857146</td></tr><tr><td>0.0</td><td>0.2833333333333333</td><td>0.0</td></tr></tbody></table></div>"
            ]
          },
          "metadata": {
            "application/vnd.databricks.v1+output": {
              "addedWidgets": {},
              "aggData": [],
              "aggError": "",
              "aggOverflow": false,
              "aggSchema": [],
              "aggSeriesLimitReached": false,
              "aggType": "",
              "arguments": {},
              "columnCustomDisplayInfos": {},
              "data": [
                [
                  3,
                  17.7,
                  10.16949152542373
                ],
                [
                  2.2,
                  13.083333333333334,
                  10.089171974522294
                ],
                [
                  2.7,
                  9.1,
                  17.802197802197803
                ],
                [
                  3.1,
                  10.85,
                  17.142857142857146
                ],
                [
                  0,
                  0.2833333333333333,
                  0
                ]
              ],
              "datasetInfos": [],
              "dbfsResultPath": null,
              "isJsonSchema": true,
              "metadata": {},
              "overflow": false,
              "plotOptions": {
                "customPlotOptions": {},
                "displayType": "table",
                "pivotAggregation": null,
                "pivotColumns": null,
                "xColumns": null,
                "yColumns": null
              },
              "removedWidgets": [],
              "schema": [
                {
                  "metadata": "{}",
                  "name": "trip_distance",
                  "type": "\"double\""
                },
                {
                  "metadata": "{}",
                  "name": "trip_duration",
                  "type": "\"double\""
                },
                {
                  "metadata": "{}",
                  "name": "trip_speed_mph",
                  "type": "\"double\""
                }
              ],
              "type": "table"
            }
          }
        }
      ],
      "source": [
        "from pyspark.sql.functions import unix_timestamp, when\n",
        "\n",
        "\n",
        "combined_taxi_df = combined_taxi_df.withColumn(\"trip_duration\",\n",
        "                when((col(\"pickup_datetime\").isNotNull()) & (col(\"dropoff_datetime\").isNotNull()),\n",
        "                     (unix_timestamp(\"dropoff_datetime\") - unix_timestamp(\"pickup_datetime\")) / 60)\n",
        "                .otherwise(None))\n",
        "\n",
        "\n",
        "combined_taxi_df = combined_taxi_df.withColumn(\"trip_speed_mph\",\n",
        "                when(col(\"trip_duration\") > 0, col(\"trip_distance\") / (col(\"trip_duration\") / 60))\n",
        "                .otherwise(0))\n",
        "\n",
        "display(combined_taxi_df.select(\"trip_distance\", \"trip_duration\", \"trip_speed_mph\").limit(5))\n"
      ]
    },
    {
      "cell_type": "code",
      "execution_count": null,
      "metadata": {
        "application/vnd.databricks.v1+cell": {
          "cellMetadata": {
            "byteLimit": 2048000,
            "rowLimit": 10000
          },
          "inputWidgets": {},
          "nuid": "56370f0d-c5e9-4b25-b64c-4bd47c7eb5c2",
          "showTitle": false,
          "tableResultSettingsMap": {},
          "title": ""
        },
        "id": "4kv6V_eTr-q8",
        "outputId": "8bbf9fc7-9f50-4c54-9147-92e963d73c33"
      },
      "outputs": [
        {
          "output_type": "display_data",
          "data": {
            "text/html": [
              "<style scoped>\n",
              "  .table-result-container {\n",
              "    max-height: 300px;\n",
              "    overflow: auto;\n",
              "  }\n",
              "  table, th, td {\n",
              "    border: 1px solid black;\n",
              "    border-collapse: collapse;\n",
              "  }\n",
              "  th, td {\n",
              "    padding: 5px;\n",
              "  }\n",
              "  th {\n",
              "    text-align: left;\n",
              "  }\n",
              "</style><div class='table-result-container'><table class='table-result'><thead style='background-color: white'><tr><th>pickup_datetime</th><th>dropoff_datetime</th><th>PULocationID</th><th>trip_distance</th><th>total_amount</th><th>trip_duration</th><th>trip_speed_mph</th><th>is_outlier</th></tr></thead><tbody></tbody></table></div>"
            ]
          },
          "metadata": {
            "application/vnd.databricks.v1+output": {
              "addedWidgets": {},
              "aggData": [],
              "aggError": "",
              "aggOverflow": false,
              "aggSchema": [],
              "aggSeriesLimitReached": false,
              "aggType": "",
              "arguments": {},
              "columnCustomDisplayInfos": {},
              "data": [],
              "datasetInfos": [],
              "dbfsResultPath": null,
              "isJsonSchema": true,
              "metadata": {},
              "overflow": false,
              "plotOptions": {
                "customPlotOptions": {},
                "displayType": "table",
                "pivotAggregation": null,
                "pivotColumns": null,
                "xColumns": null,
                "yColumns": null
              },
              "removedWidgets": [],
              "schema": [
                {
                  "metadata": "{}",
                  "name": "pickup_datetime",
                  "type": "\"timestamp\""
                },
                {
                  "metadata": "{}",
                  "name": "dropoff_datetime",
                  "type": "\"timestamp\""
                },
                {
                  "metadata": "{}",
                  "name": "PULocationID",
                  "type": "\"integer\""
                },
                {
                  "metadata": "{}",
                  "name": "trip_distance",
                  "type": "\"double\""
                },
                {
                  "metadata": "{}",
                  "name": "total_amount",
                  "type": "\"double\""
                },
                {
                  "metadata": "{}",
                  "name": "trip_duration",
                  "type": "\"double\""
                },
                {
                  "metadata": "{}",
                  "name": "trip_speed_mph",
                  "type": "\"double\""
                },
                {
                  "metadata": "{}",
                  "name": "is_outlier",
                  "type": "\"integer\""
                }
              ],
              "type": "table"
            }
          }
        }
      ],
      "source": [
        "from pyspark.sql.functions import approx_percentile\n",
        "\n",
        "\n",
        "percentile_threshold = combined_taxi_df.approxQuantile(\"total_amount\", [0.99], 0.01)[0]\n",
        "\n",
        "\n",
        "combined_taxi_df = combined_taxi_df.withColumn(\"is_outlier\",\n",
        "                when(col(\"total_amount\") > percentile_threshold, 1).otherwise(0))\n",
        "\n",
        "\n",
        "display(combined_taxi_df.filter(col(\"is_outlier\") == 1).limit(5))\n"
      ]
    },
    {
      "cell_type": "code",
      "execution_count": null,
      "metadata": {
        "application/vnd.databricks.v1+cell": {
          "cellMetadata": {
            "byteLimit": 2048000,
            "rowLimit": 10000
          },
          "inputWidgets": {},
          "nuid": "6132ae51-7b0f-4d15-a239-d93623a1d259",
          "showTitle": false,
          "tableResultSettingsMap": {},
          "title": ""
        },
        "id": "s10TSo7fr-q9",
        "outputId": "747bfe67-ba58-4199-c053-f481306b300d"
      },
      "outputs": [
        {
          "output_type": "display_data",
          "data": {
            "text/html": [
              "<style scoped>\n",
              "  .table-result-container {\n",
              "    max-height: 300px;\n",
              "    overflow: auto;\n",
              "  }\n",
              "  table, th, td {\n",
              "    border: 1px solid black;\n",
              "    border-collapse: collapse;\n",
              "  }\n",
              "  th, td {\n",
              "    padding: 5px;\n",
              "  }\n",
              "  th {\n",
              "    text-align: left;\n",
              "  }\n",
              "</style><div class='table-result-container'><table class='table-result'><thead style='background-color: white'><tr><th>pickup_datetime</th><th>dropoff_datetime</th><th>PULocationID</th><th>trip_distance</th><th>total_amount</th><th>trip_duration</th><th>trip_speed_mph</th><th>is_outlier</th><th>Borough</th><th>Pickup_Zone</th></tr></thead><tbody><tr><td>2024-10-01T00:30:44.000Z</td><td>2024-10-01T00:48:26.000Z</td><td>162</td><td>3.0</td><td>24.9</td><td>17.7</td><td>10.16949152542373</td><td>0</td><td>Manhattan</td><td>Midtown East</td></tr><tr><td>2024-10-01T00:12:20.000Z</td><td>2024-10-01T00:25:25.000Z</td><td>48</td><td>2.2</td><td>23.0</td><td>13.083333333333334</td><td>10.089171974522294</td><td>0</td><td>Manhattan</td><td>Clinton East</td></tr><tr><td>2024-10-01T00:04:46.000Z</td><td>2024-10-01T00:13:52.000Z</td><td>142</td><td>2.7</td><td>22.2</td><td>9.1</td><td>17.802197802197803</td><td>0</td><td>Manhattan</td><td>Lincoln Square East</td></tr><tr><td>2024-10-01T00:12:10.000Z</td><td>2024-10-01T00:23:01.000Z</td><td>233</td><td>3.1</td><td>21.2</td><td>10.85</td><td>17.142857142857146</td><td>0</td><td>Manhattan</td><td>UN/Turtle Bay South</td></tr><tr><td>2024-10-01T00:30:22.000Z</td><td>2024-10-01T00:30:39.000Z</td><td>262</td><td>0.0</td><td>8.0</td><td>0.2833333333333333</td><td>0.0</td><td>0</td><td>Manhattan</td><td>Yorkville East</td></tr></tbody></table></div>"
            ]
          },
          "metadata": {
            "application/vnd.databricks.v1+output": {
              "addedWidgets": {},
              "aggData": [],
              "aggError": "",
              "aggOverflow": false,
              "aggSchema": [],
              "aggSeriesLimitReached": false,
              "aggType": "",
              "arguments": {},
              "columnCustomDisplayInfos": {},
              "data": [
                [
                  "2024-10-01T00:30:44.000Z",
                  "2024-10-01T00:48:26.000Z",
                  162,
                  3,
                  24.9,
                  17.7,
                  10.16949152542373,
                  0,
                  "Manhattan",
                  "Midtown East"
                ],
                [
                  "2024-10-01T00:12:20.000Z",
                  "2024-10-01T00:25:25.000Z",
                  48,
                  2.2,
                  23,
                  13.083333333333334,
                  10.089171974522294,
                  0,
                  "Manhattan",
                  "Clinton East"
                ],
                [
                  "2024-10-01T00:04:46.000Z",
                  "2024-10-01T00:13:52.000Z",
                  142,
                  2.7,
                  22.2,
                  9.1,
                  17.802197802197803,
                  0,
                  "Manhattan",
                  "Lincoln Square East"
                ],
                [
                  "2024-10-01T00:12:10.000Z",
                  "2024-10-01T00:23:01.000Z",
                  233,
                  3.1,
                  21.2,
                  10.85,
                  17.142857142857146,
                  0,
                  "Manhattan",
                  "UN/Turtle Bay South"
                ],
                [
                  "2024-10-01T00:30:22.000Z",
                  "2024-10-01T00:30:39.000Z",
                  262,
                  0,
                  8,
                  0.2833333333333333,
                  0,
                  0,
                  "Manhattan",
                  "Yorkville East"
                ]
              ],
              "datasetInfos": [],
              "dbfsResultPath": null,
              "isJsonSchema": true,
              "metadata": {},
              "overflow": false,
              "plotOptions": {
                "customPlotOptions": {},
                "displayType": "table",
                "pivotAggregation": null,
                "pivotColumns": null,
                "xColumns": null,
                "yColumns": null
              },
              "removedWidgets": [],
              "schema": [
                {
                  "metadata": "{}",
                  "name": "pickup_datetime",
                  "type": "\"timestamp\""
                },
                {
                  "metadata": "{}",
                  "name": "dropoff_datetime",
                  "type": "\"timestamp\""
                },
                {
                  "metadata": "{}",
                  "name": "PULocationID",
                  "type": "\"integer\""
                },
                {
                  "metadata": "{}",
                  "name": "trip_distance",
                  "type": "\"double\""
                },
                {
                  "metadata": "{}",
                  "name": "total_amount",
                  "type": "\"double\""
                },
                {
                  "metadata": "{}",
                  "name": "trip_duration",
                  "type": "\"double\""
                },
                {
                  "metadata": "{}",
                  "name": "trip_speed_mph",
                  "type": "\"double\""
                },
                {
                  "metadata": "{}",
                  "name": "is_outlier",
                  "type": "\"integer\""
                },
                {
                  "metadata": "{}",
                  "name": "Borough",
                  "type": "\"string\""
                },
                {
                  "metadata": "{}",
                  "name": "Pickup_Zone",
                  "type": "\"string\""
                }
              ],
              "type": "table"
            }
          }
        }
      ],
      "source": [
        "\n",
        "if \"Borough\" in combined_taxi_df.columns and \"Pickup_Zone\" in combined_taxi_df.columns:\n",
        "    combined_taxi_df = combined_taxi_df.drop(\"Borough\", \"Pickup_Zone\")\n",
        "\n",
        "\n",
        "zones_df = spark.read.table(\"taxi_zones\")\n",
        "\n",
        "zones_df = zones_df.withColumn(\"LocationID\", col(\"LocationID\").cast(\"int\"))\n",
        "\n",
        "combined_taxi_df = combined_taxi_df.join(zones_df, combined_taxi_df[\"PULocationID\"] == zones_df[\"LocationID\"], \"left\") \\\n",
        "                                   .select(combined_taxi_df[\"*\"], zones_df[\"Borough\"], zones_df[\"Zone\"].alias(\"Pickup_Zone\"))\n",
        "display(combined_taxi_df.limit(5))\n",
        "\n"
      ]
    },
    {
      "cell_type": "code",
      "execution_count": null,
      "metadata": {
        "application/vnd.databricks.v1+cell": {
          "cellMetadata": {
            "byteLimit": 2048000,
            "rowLimit": 10000
          },
          "inputWidgets": {},
          "nuid": "a04213e2-2e60-4375-9b44-c083b8031d1c",
          "showTitle": false,
          "tableResultSettingsMap": {},
          "title": ""
        },
        "id": "FFze-Vs9r-q-",
        "outputId": "ee910fc3-a9b9-4dfe-8aeb-e5b4e9834616"
      },
      "outputs": [
        {
          "output_type": "display_data",
          "data": {
            "text/html": [
              "<style scoped>\n",
              "  .table-result-container {\n",
              "    max-height: 300px;\n",
              "    overflow: auto;\n",
              "  }\n",
              "  table, th, td {\n",
              "    border: 1px solid black;\n",
              "    border-collapse: collapse;\n",
              "  }\n",
              "  th, td {\n",
              "    padding: 5px;\n",
              "  }\n",
              "  th {\n",
              "    text-align: left;\n",
              "  }\n",
              "</style><div class='table-result-container'><table class='table-result'><thead style='background-color: white'><tr><th>hour</th><th>trip_count</th></tr></thead><tbody><tr><td>2024-10-17 20</td><td>8505</td></tr><tr><td>2024-10-08 18</td><td>9555</td></tr><tr><td>2024-10-28 15</td><td>7186</td></tr><tr><td>2024-10-09 03</td><td>287</td></tr><tr><td>2024-10-29 08</td><td>6277</td></tr><tr><td>2024-10-02 04</td><td>328</td></tr><tr><td>2024-10-03 20</td><td>6593</td></tr><tr><td>2024-10-11 02</td><td>1006</td></tr><tr><td>2024-10-16 10</td><td>6189</td></tr><tr><td>2024-10-17 07</td><td>5067</td></tr></tbody></table></div>"
            ]
          },
          "metadata": {
            "application/vnd.databricks.v1+output": {
              "addedWidgets": {},
              "aggData": [],
              "aggError": "",
              "aggOverflow": false,
              "aggSchema": [],
              "aggSeriesLimitReached": false,
              "aggType": "",
              "arguments": {},
              "columnCustomDisplayInfos": {},
              "data": [
                [
                  "2024-10-17 20",
                  8505
                ],
                [
                  "2024-10-08 18",
                  9555
                ],
                [
                  "2024-10-28 15",
                  7186
                ],
                [
                  "2024-10-09 03",
                  287
                ],
                [
                  "2024-10-29 08",
                  6277
                ],
                [
                  "2024-10-02 04",
                  328
                ],
                [
                  "2024-10-03 20",
                  6593
                ],
                [
                  "2024-10-11 02",
                  1006
                ],
                [
                  "2024-10-16 10",
                  6189
                ],
                [
                  "2024-10-17 07",
                  5067
                ]
              ],
              "datasetInfos": [],
              "dbfsResultPath": null,
              "isJsonSchema": true,
              "metadata": {},
              "overflow": false,
              "plotOptions": {
                "customPlotOptions": {},
                "displayType": "table",
                "pivotAggregation": null,
                "pivotColumns": null,
                "xColumns": null,
                "yColumns": null
              },
              "removedWidgets": [],
              "schema": [
                {
                  "metadata": "{}",
                  "name": "hour",
                  "type": "\"string\""
                },
                {
                  "metadata": "{}",
                  "name": "trip_count",
                  "type": "\"long\""
                }
              ],
              "type": "table"
            }
          }
        },
        {
          "output_type": "display_data",
          "data": {
            "text/html": [
              "<style scoped>\n",
              "  .table-result-container {\n",
              "    max-height: 300px;\n",
              "    overflow: auto;\n",
              "  }\n",
              "  table, th, td {\n",
              "    border: 1px solid black;\n",
              "    border-collapse: collapse;\n",
              "  }\n",
              "  th, td {\n",
              "    padding: 5px;\n",
              "  }\n",
              "  th {\n",
              "    text-align: left;\n",
              "  }\n",
              "</style><div class='table-result-container'><table class='table-result'><thead style='background-color: white'><tr><th>day</th><th>trip_count</th></tr></thead><tbody><tr><td>2024-10-17</td><td>138413</td></tr><tr><td>2024-10-03</td><td>110629</td></tr><tr><td>2024-10-08</td><td>123158</td></tr><tr><td>2024-10-19</td><td>137476</td></tr><tr><td>2024-10-16</td><td>136995</td></tr><tr><td>2024-10-09</td><td>131766</td></tr><tr><td>2024-10-26</td><td>150328</td></tr><tr><td>2024-11-01</td><td>139463</td></tr><tr><td>2024-10-15</td><td>130751</td></tr><tr><td>2024-10-23</td><td>130133</td></tr></tbody></table></div>"
            ]
          },
          "metadata": {
            "application/vnd.databricks.v1+output": {
              "addedWidgets": {},
              "aggData": [],
              "aggError": "",
              "aggOverflow": false,
              "aggSchema": [],
              "aggSeriesLimitReached": false,
              "aggType": "",
              "arguments": {},
              "columnCustomDisplayInfos": {},
              "data": [
                [
                  "2024-10-17",
                  138413
                ],
                [
                  "2024-10-03",
                  110629
                ],
                [
                  "2024-10-08",
                  123158
                ],
                [
                  "2024-10-19",
                  137476
                ],
                [
                  "2024-10-16",
                  136995
                ],
                [
                  "2024-10-09",
                  131766
                ],
                [
                  "2024-10-26",
                  150328
                ],
                [
                  "2024-11-01",
                  139463
                ],
                [
                  "2024-10-15",
                  130751
                ],
                [
                  "2024-10-23",
                  130133
                ]
              ],
              "datasetInfos": [],
              "dbfsResultPath": null,
              "isJsonSchema": true,
              "metadata": {},
              "overflow": false,
              "plotOptions": {
                "customPlotOptions": {},
                "displayType": "table",
                "pivotAggregation": null,
                "pivotColumns": null,
                "xColumns": null,
                "yColumns": null
              },
              "removedWidgets": [],
              "schema": [
                {
                  "metadata": "{}",
                  "name": "day",
                  "type": "\"string\""
                },
                {
                  "metadata": "{}",
                  "name": "trip_count",
                  "type": "\"long\""
                }
              ],
              "type": "table"
            }
          }
        }
      ],
      "source": [
        "from pyspark.sql.functions import date_format, count\n",
        "\n",
        "\n",
        "hourly_trips = combined_taxi_df.groupBy(date_format(\"pickup_datetime\", \"yyyy-MM-dd HH\").alias(\"hour\")) \\\n",
        "                               .agg(count(\"*\").alias(\"trip_count\"))\n",
        "\n",
        "daily_trips = combined_taxi_df.groupBy(date_format(\"pickup_datetime\", \"yyyy-MM-dd\").alias(\"day\")) \\\n",
        "                              .agg(count(\"*\").alias(\"trip_count\"))\n",
        "\n",
        "display(hourly_trips.limit(10))\n",
        "display(daily_trips.limit(10))\n"
      ]
    },
    {
      "cell_type": "code",
      "execution_count": null,
      "metadata": {
        "application/vnd.databricks.v1+cell": {
          "cellMetadata": {
            "byteLimit": 2048000,
            "rowLimit": 10000
          },
          "inputWidgets": {},
          "nuid": "4c19bba3-01e2-4a22-a5be-ad837fe66b8c",
          "showTitle": false,
          "tableResultSettingsMap": {},
          "title": ""
        },
        "id": "h1FUU6tOr-q_",
        "outputId": "b4c3412d-b7bf-4110-c519-ce6d24b0c506"
      },
      "outputs": [
        {
          "output_type": "execute_result",
          "data": {
            "text/plain": [
              "DataFrame[pickup_datetime: timestamp, dropoff_datetime: timestamp, PULocationID: int, trip_distance: double, total_amount: double, trip_duration: double, trip_speed_mph: double, is_outlier: int, Borough: string, Pickup_Zone: string]"
            ]
          },
          "execution_count": 46,
          "metadata": {}
        }
      ],
      "source": [
        "combined_taxi_df"
      ]
    },
    {
      "cell_type": "code",
      "execution_count": null,
      "metadata": {
        "application/vnd.databricks.v1+cell": {
          "cellMetadata": {
            "byteLimit": 2048000,
            "rowLimit": 10000
          },
          "inputWidgets": {},
          "nuid": "bc7300df-3d85-4b30-8415-372ca84822d5",
          "showTitle": false,
          "tableResultSettingsMap": {},
          "title": ""
        },
        "id": "mVvjOTPZr-rB",
        "outputId": "0d6f4522-674f-4bc5-8d00-a0a58c72b483"
      },
      "outputs": [
        {
          "output_type": "display_data",
          "data": {
            "text/html": [
              "<style scoped>\n",
              "  .table-result-container {\n",
              "    max-height: 300px;\n",
              "    overflow: auto;\n",
              "  }\n",
              "  table, th, td {\n",
              "    border: 1px solid black;\n",
              "    border-collapse: collapse;\n",
              "  }\n",
              "  th, td {\n",
              "    padding: 5px;\n",
              "  }\n",
              "  th {\n",
              "    text-align: left;\n",
              "  }\n",
              "</style><div class='table-result-container'><table class='table-result'><thead style='background-color: white'><tr><th>Pickup_Zone</th><th>total_revenue</th></tr></thead><tbody><tr><td>JFK Airport</td><td>3.967114217001904E7</td></tr><tr><td>LaGuardia Airport</td><td>2.2929463760001924E7</td></tr><tr><td>Midtown Center</td><td>1.288040562999951E7</td></tr><tr><td>Upper East Side South</td><td>1.1800999759998431E7</td></tr><tr><td>Times Sq/Theatre District</td><td>1.0923190659999494E7</td></tr><tr><td>Upper East Side North</td><td>1.0307896579999143E7</td></tr><tr><td>Penn Station/Madison Sq West</td><td>9485968.739999833</td></tr><tr><td>Midtown East</td><td>9396751.249999624</td></tr><tr><td>Lincoln Square East</td><td>8335983.909999904</td></tr><tr><td>Midtown North</td><td>8291605.059999749</td></tr></tbody></table></div>"
            ]
          },
          "metadata": {
            "application/vnd.databricks.v1+output": {
              "addedWidgets": {},
              "aggData": [],
              "aggError": "",
              "aggOverflow": false,
              "aggSchema": [],
              "aggSeriesLimitReached": false,
              "aggType": "",
              "arguments": {},
              "columnCustomDisplayInfos": {},
              "data": [
                [
                  "JFK Airport",
                  39671142.17001904
                ],
                [
                  "LaGuardia Airport",
                  22929463.760001924
                ],
                [
                  "Midtown Center",
                  12880405.62999951
                ],
                [
                  "Upper East Side South",
                  11800999.759998431
                ],
                [
                  "Times Sq/Theatre District",
                  10923190.659999494
                ],
                [
                  "Upper East Side North",
                  10307896.579999143
                ],
                [
                  "Penn Station/Madison Sq West",
                  9485968.739999833
                ],
                [
                  "Midtown East",
                  9396751.249999624
                ],
                [
                  "Lincoln Square East",
                  8335983.909999904
                ],
                [
                  "Midtown North",
                  8291605.059999749
                ]
              ],
              "datasetInfos": [],
              "dbfsResultPath": null,
              "isJsonSchema": true,
              "metadata": {},
              "overflow": false,
              "plotOptions": {
                "customPlotOptions": {},
                "displayType": "table",
                "pivotAggregation": null,
                "pivotColumns": null,
                "xColumns": null,
                "yColumns": null
              },
              "removedWidgets": [],
              "schema": [
                {
                  "metadata": "{}",
                  "name": "Pickup_Zone",
                  "type": "\"string\""
                },
                {
                  "metadata": "{}",
                  "name": "total_revenue",
                  "type": "\"double\""
                }
              ],
              "type": "table"
            }
          }
        }
      ],
      "source": [
        "top_revenue_locations = combined_taxi_df.select(\"Pickup_Zone\", \"total_amount\") \\\n",
        "                                        .groupBy(\"Pickup_Zone\") \\\n",
        "                                        .agg({\"total_amount\": \"sum\"}) \\\n",
        "                                        .withColumnRenamed(\"sum(total_amount)\", \"total_revenue\") \\\n",
        "                                        .orderBy(col(\"total_revenue\").desc()) \\\n",
        "                                        .limit(10)\n",
        "\n",
        "display(top_revenue_locations)\n"
      ]
    },
    {
      "cell_type": "code",
      "execution_count": null,
      "metadata": {
        "application/vnd.databricks.v1+cell": {
          "cellMetadata": {
            "byteLimit": 2048000,
            "rowLimit": 10000
          },
          "inputWidgets": {},
          "nuid": "0abcf522-867d-41e8-bb05-6917a4b85b33",
          "showTitle": false,
          "tableResultSettingsMap": {},
          "title": ""
        },
        "id": "ulxL8OPUr-rC",
        "outputId": "14423a5e-cda6-45ef-f28b-4ea07762545f"
      },
      "outputs": [
        {
          "output_type": "display_data",
          "data": {
            "text/html": [
              "<style scoped>\n",
              "  .table-result-container {\n",
              "    max-height: 300px;\n",
              "    overflow: auto;\n",
              "  }\n",
              "  table, th, td {\n",
              "    border: 1px solid black;\n",
              "    border-collapse: collapse;\n",
              "  }\n",
              "  th, td {\n",
              "    padding: 5px;\n",
              "  }\n",
              "  th {\n",
              "    text-align: left;\n",
              "  }\n",
              "</style><div class='table-result-container'><table class='table-result'><thead style='background-color: white'><tr><th>is_weekend</th><th>month</th><th>total_trips</th></tr></thead><tbody><tr><td>Weekday</td><td>2002-12</td><td>1</td></tr><tr><td>Weekday</td><td>2008-12</td><td>4</td></tr><tr><td>Weekday</td><td>2009-01</td><td>4</td></tr><tr><td>Weekday</td><td>2024-09</td><td>16</td></tr><tr><td>Weekend</td><td>2024-09</td><td>1</td></tr><tr><td>Weekend</td><td>2024-10</td><td>1002383</td></tr><tr><td>Weekday</td><td>2024-10</td><td>2887532</td></tr><tr><td>Weekday</td><td>2024-11</td><td>2557512</td></tr><tr><td>Weekend</td><td>2024-11</td><td>1141074</td></tr><tr><td>Weekend</td><td>2024-12</td><td>1062760</td></tr><tr><td>Weekday</td><td>2024-12</td><td>2659571</td></tr><tr><td>Weekday</td><td>2025-01</td><td>13</td></tr><tr><td>Weekend</td><td>2025-02</td><td>1</td></tr><tr><td>Weekend</td><td>2025-03</td><td>2</td></tr></tbody></table></div>"
            ]
          },
          "metadata": {
            "application/vnd.databricks.v1+output": {
              "addedWidgets": {},
              "aggData": [],
              "aggError": "",
              "aggOverflow": false,
              "aggSchema": [],
              "aggSeriesLimitReached": false,
              "aggType": "",
              "arguments": {},
              "columnCustomDisplayInfos": {},
              "data": [
                [
                  "Weekday",
                  "2002-12",
                  1
                ],
                [
                  "Weekday",
                  "2008-12",
                  4
                ],
                [
                  "Weekday",
                  "2009-01",
                  4
                ],
                [
                  "Weekday",
                  "2024-09",
                  16
                ],
                [
                  "Weekend",
                  "2024-09",
                  1
                ],
                [
                  "Weekend",
                  "2024-10",
                  1002383
                ],
                [
                  "Weekday",
                  "2024-10",
                  2887532
                ],
                [
                  "Weekday",
                  "2024-11",
                  2557512
                ],
                [
                  "Weekend",
                  "2024-11",
                  1141074
                ],
                [
                  "Weekend",
                  "2024-12",
                  1062760
                ],
                [
                  "Weekday",
                  "2024-12",
                  2659571
                ],
                [
                  "Weekday",
                  "2025-01",
                  13
                ],
                [
                  "Weekend",
                  "2025-02",
                  1
                ],
                [
                  "Weekend",
                  "2025-03",
                  2
                ]
              ],
              "datasetInfos": [],
              "dbfsResultPath": null,
              "isJsonSchema": true,
              "metadata": {},
              "overflow": false,
              "plotOptions": {
                "customPlotOptions": {},
                "displayType": "table",
                "pivotAggregation": null,
                "pivotColumns": null,
                "xColumns": null,
                "yColumns": null
              },
              "removedWidgets": [],
              "schema": [
                {
                  "metadata": "{}",
                  "name": "is_weekend",
                  "type": "\"string\""
                },
                {
                  "metadata": "{}",
                  "name": "month",
                  "type": "\"string\""
                },
                {
                  "metadata": "{}",
                  "name": "total_trips",
                  "type": "\"long\""
                }
              ],
              "type": "table"
            }
          }
        }
      ],
      "source": [
        "from pyspark.sql.functions import dayofweek\n",
        "trip_patterns = combined_taxi_df.withColumn(\"day_of_week\", dayofweek(\"pickup_datetime\")) \\\n",
        "                                .withColumn(\"is_weekend\", when(col(\"day_of_week\").isin(1, 7), \"Weekend\").otherwise(\"Weekday\")) \\\n",
        "                                .groupBy(\"is_weekend\", date_format(\"pickup_datetime\", \"yyyy-MM\").alias(\"month\")) \\\n",
        "                                .agg(count(\"*\").alias(\"total_trips\")) \\\n",
        "                                .orderBy(\"month\")\n",
        "\n",
        "display(trip_patterns)"
      ]
    },
    {
      "cell_type": "code",
      "execution_count": null,
      "metadata": {
        "application/vnd.databricks.v1+cell": {
          "cellMetadata": {
            "byteLimit": 2048000,
            "rowLimit": 10000
          },
          "inputWidgets": {},
          "nuid": "f3477001-f116-4a0c-8c01-08e7cddf1ffc",
          "showTitle": false,
          "tableResultSettingsMap": {},
          "title": ""
        },
        "id": "Fk0yeIeJr-rD",
        "outputId": "8dea45e2-1dde-4991-dad2-dc5bfc741364"
      },
      "outputs": [
        {
          "output_type": "stream",
          "name": "stdout",
          "text": [
            "root\n |-- pickup_datetime: timestamp (nullable = true)\n |-- dropoff_datetime: timestamp (nullable = true)\n |-- PULocationID: integer (nullable = true)\n |-- trip_distance: double (nullable = true)\n |-- total_amount: double (nullable = true)\n |-- trip_duration: double (nullable = true)\n |-- trip_speed_mph: double (nullable = true)\n |-- is_outlier: integer (nullable = false)\n |-- Borough: string (nullable = true)\n |-- Pickup_Zone: string (nullable = true)\n |-- Borough: string (nullable = true)\n |-- Pickup_Zone: string (nullable = true)\n\n"
          ]
        }
      ],
      "source": [
        "combined_taxi_df.printSchema()"
      ]
    }
  ],
  "metadata": {
    "application/vnd.databricks.v1+notebook": {
      "computePreferences": null,
      "dashboards": [],
      "environmentMetadata": {
        "base_environment": "",
        "environment_version": "2"
      },
      "language": "python",
      "notebookMetadata": {
        "pythonIndentUnit": 4
      },
      "notebookName": "combined_taxi",
      "widgets": {}
    },
    "language_info": {
      "name": "python"
    },
    "colab": {
      "provenance": []
    }
  },
  "nbformat": 4,
  "nbformat_minor": 0
}